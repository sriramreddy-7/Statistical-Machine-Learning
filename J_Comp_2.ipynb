{
  "cells": [
    {
      "cell_type": "markdown",
      "metadata": {
        "id": "view-in-github",
        "colab_type": "text"
      },
      "source": [
        "<a href=\"https://colab.research.google.com/github/sriramreddy-7/Statistical-Machine-Learning/blob/main/J_Comp_2.ipynb\" target=\"_parent\"><img src=\"https://colab.research.google.com/assets/colab-badge.svg\" alt=\"Open In Colab\"/></a>"
      ]
    },
    {
      "cell_type": "code",
      "execution_count": 17,
      "metadata": {
        "colab": {
          "base_uri": "https://localhost:8080/"
        },
        "id": "aQxu0zFFh1yt",
        "outputId": "e13e6a2a-bbfc-49b8-be4c-59db021bd6aa"
      },
      "outputs": [
        {
          "output_type": "stream",
          "name": "stdout",
          "text": [
            "Accuracy for Test sample is: 0.9820513598288679\n",
            "Accuracy for Training sample is: 0.950556846786138\n",
            "MSE in Lasso regression is: 17943971.9842417\n",
            "MSE in Ridge regression is : 33536687.51412098\n"
          ]
        }
      ],
      "source": [
        "import pandas as pd\n",
        "import numpy as np\n",
        "from sklearn.metrics import mean_squared_error\n",
        "from matplotlib import pyplot as plt\n",
        "from sklearn.model_selection import train_test_split\n",
        "from sklearn import linear_model\n",
        "from sklearn.linear_model import LinearRegression,Ridge,Lasso\n",
        "data=pd.read_csv(\"Salary_Data-1.csv\")\n",
        "X=data.iloc[:,0:1]\n",
        "Y=data.iloc[:,1:2]\n",
        "train_X,test_X,train_Y,test_Y=train_test_split(X,Y,test_size=0.11,random_state=0)\n",
        "reg=LinearRegression().fit(train_X,train_Y)\n",
        "print(\"Accuracy for Test sample is:\",reg.score(test_X,test_Y))\n",
        "print(\"Accuracy for Training sample is:\",reg.score(train_X,train_Y))\n",
        "lasso_reg=linear_model.Lasso(alpha=0.01)\n",
        "lasso_reg.fit(train_X,train_Y)\n",
        "Y_pred=lasso_reg.predict(test_X)\n",
        "lasso_reg.score(test_X,test_Y)\n",
        "lasso_reg.score(test_X,test_Y)\n",
        "print(\"MSE in Lasso regression is:\",( mean_squared_error(test_Y,Y_pred)))\n",
        "ridge_reg=Ridge(alpha=0.01)\n",
        "ridge_reg.fit(train_X,train_Y)\n",
        "pred=ridge_reg.predict(train_X)\n",
        "print(\"MSE in Ridge regression is :\",mean_squared_error(train_Y,pred))\n"
      ]
    }
  ],
  "metadata": {
    "colab": {
      "provenance": [],
      "collapsed_sections": [],
      "authorship_tag": "ABX9TyMiCn0K/8Li8R0enXiAeyJK",
      "include_colab_link": true
    },
    "kernelspec": {
      "display_name": "Python 3",
      "name": "python3"
    },
    "language_info": {
      "name": "python"
    }
  },
  "nbformat": 4,
  "nbformat_minor": 0
}