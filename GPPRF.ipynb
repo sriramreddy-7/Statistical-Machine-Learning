{
  "nbformat": 4,
  "nbformat_minor": 0,
  "metadata": {
    "colab": {
      "provenance": [],
      "authorship_tag": "ABX9TyOokiFTEYTycruB9LU4Cs+8",
      "include_colab_link": true
    },
    "kernelspec": {
      "name": "python3",
      "display_name": "Python 3"
    },
    "language_info": {
      "name": "python"
    }
  },
  "cells": [
    {
      "cell_type": "markdown",
      "metadata": {
        "id": "view-in-github",
        "colab_type": "text"
      },
      "source": [
        "<a href=\"https://colab.research.google.com/github/sriramreddy-7/Statistical-Machine-Learning/blob/main/GPPRF.ipynb\" target=\"_parent\"><img src=\"https://colab.research.google.com/assets/colab-badge.svg\" alt=\"Open In Colab\"/></a>"
      ]
    },
    {
      "cell_type": "code",
      "execution_count": 47,
      "metadata": {
        "id": "j9Y4hKo6O9F0"
      },
      "outputs": [],
      "source": [
        "import numpy as np\n",
        "import pandas as pd\n",
        "import matplotlib.pyplot as plt\n",
        "import seaborn as sns\n",
        "from sklearn.model_selection import train_test_split\n",
        "from sklearn.ensemble import RandomForestRegressor\n",
        "from sklearn.ensemble import RandomForestClassifier\n",
        "from sklearn import metrics\n",
        "from sklearn.metrics import accuracy_score\n",
        "from sklearn.metrics import mean_squared_error\n"
      ]
    },
    {
      "cell_type": "code",
      "source": [
        "gold_data = pd.read_csv('/content/gld_price_data.csv')"
      ],
      "metadata": {
        "id": "QxHA5P3rPKB9"
      },
      "execution_count": 4,
      "outputs": []
    },
    {
      "cell_type": "code",
      "source": [
        "gold_data.head()"
      ],
      "metadata": {
        "colab": {
          "base_uri": "https://localhost:8080/",
          "height": 206
        },
        "id": "y9bfIKyIPUnh",
        "outputId": "c2805d0f-7de3-40ce-8375-20bb698574f9"
      },
      "execution_count": 5,
      "outputs": [
        {
          "output_type": "execute_result",
          "data": {
            "text/plain": [
              "       Date          SPX        GLD        USO     SLV   EUR/USD\n",
              "0  1/2/2008  1447.160034  84.860001  78.470001  15.180  1.471692\n",
              "1  1/3/2008  1447.160034  85.570000  78.370003  15.285  1.474491\n",
              "2  1/4/2008  1411.630005  85.129997  77.309998  15.167  1.475492\n",
              "3  1/7/2008  1416.180054  84.769997  75.500000  15.053  1.468299\n",
              "4  1/8/2008  1390.189941  86.779999  76.059998  15.590  1.557099"
            ],
            "text/html": [
              "\n",
              "  <div id=\"df-f64adc45-9ac1-4961-aa48-04504162ab38\">\n",
              "    <div class=\"colab-df-container\">\n",
              "      <div>\n",
              "<style scoped>\n",
              "    .dataframe tbody tr th:only-of-type {\n",
              "        vertical-align: middle;\n",
              "    }\n",
              "\n",
              "    .dataframe tbody tr th {\n",
              "        vertical-align: top;\n",
              "    }\n",
              "\n",
              "    .dataframe thead th {\n",
              "        text-align: right;\n",
              "    }\n",
              "</style>\n",
              "<table border=\"1\" class=\"dataframe\">\n",
              "  <thead>\n",
              "    <tr style=\"text-align: right;\">\n",
              "      <th></th>\n",
              "      <th>Date</th>\n",
              "      <th>SPX</th>\n",
              "      <th>GLD</th>\n",
              "      <th>USO</th>\n",
              "      <th>SLV</th>\n",
              "      <th>EUR/USD</th>\n",
              "    </tr>\n",
              "  </thead>\n",
              "  <tbody>\n",
              "    <tr>\n",
              "      <th>0</th>\n",
              "      <td>1/2/2008</td>\n",
              "      <td>1447.160034</td>\n",
              "      <td>84.860001</td>\n",
              "      <td>78.470001</td>\n",
              "      <td>15.180</td>\n",
              "      <td>1.471692</td>\n",
              "    </tr>\n",
              "    <tr>\n",
              "      <th>1</th>\n",
              "      <td>1/3/2008</td>\n",
              "      <td>1447.160034</td>\n",
              "      <td>85.570000</td>\n",
              "      <td>78.370003</td>\n",
              "      <td>15.285</td>\n",
              "      <td>1.474491</td>\n",
              "    </tr>\n",
              "    <tr>\n",
              "      <th>2</th>\n",
              "      <td>1/4/2008</td>\n",
              "      <td>1411.630005</td>\n",
              "      <td>85.129997</td>\n",
              "      <td>77.309998</td>\n",
              "      <td>15.167</td>\n",
              "      <td>1.475492</td>\n",
              "    </tr>\n",
              "    <tr>\n",
              "      <th>3</th>\n",
              "      <td>1/7/2008</td>\n",
              "      <td>1416.180054</td>\n",
              "      <td>84.769997</td>\n",
              "      <td>75.500000</td>\n",
              "      <td>15.053</td>\n",
              "      <td>1.468299</td>\n",
              "    </tr>\n",
              "    <tr>\n",
              "      <th>4</th>\n",
              "      <td>1/8/2008</td>\n",
              "      <td>1390.189941</td>\n",
              "      <td>86.779999</td>\n",
              "      <td>76.059998</td>\n",
              "      <td>15.590</td>\n",
              "      <td>1.557099</td>\n",
              "    </tr>\n",
              "  </tbody>\n",
              "</table>\n",
              "</div>\n",
              "      <button class=\"colab-df-convert\" onclick=\"convertToInteractive('df-f64adc45-9ac1-4961-aa48-04504162ab38')\"\n",
              "              title=\"Convert this dataframe to an interactive table.\"\n",
              "              style=\"display:none;\">\n",
              "        \n",
              "  <svg xmlns=\"http://www.w3.org/2000/svg\" height=\"24px\"viewBox=\"0 0 24 24\"\n",
              "       width=\"24px\">\n",
              "    <path d=\"M0 0h24v24H0V0z\" fill=\"none\"/>\n",
              "    <path d=\"M18.56 5.44l.94 2.06.94-2.06 2.06-.94-2.06-.94-.94-2.06-.94 2.06-2.06.94zm-11 1L8.5 8.5l.94-2.06 2.06-.94-2.06-.94L8.5 2.5l-.94 2.06-2.06.94zm10 10l.94 2.06.94-2.06 2.06-.94-2.06-.94-.94-2.06-.94 2.06-2.06.94z\"/><path d=\"M17.41 7.96l-1.37-1.37c-.4-.4-.92-.59-1.43-.59-.52 0-1.04.2-1.43.59L10.3 9.45l-7.72 7.72c-.78.78-.78 2.05 0 2.83L4 21.41c.39.39.9.59 1.41.59.51 0 1.02-.2 1.41-.59l7.78-7.78 2.81-2.81c.8-.78.8-2.07 0-2.86zM5.41 20L4 18.59l7.72-7.72 1.47 1.35L5.41 20z\"/>\n",
              "  </svg>\n",
              "      </button>\n",
              "      \n",
              "  <style>\n",
              "    .colab-df-container {\n",
              "      display:flex;\n",
              "      flex-wrap:wrap;\n",
              "      gap: 12px;\n",
              "    }\n",
              "\n",
              "    .colab-df-convert {\n",
              "      background-color: #E8F0FE;\n",
              "      border: none;\n",
              "      border-radius: 50%;\n",
              "      cursor: pointer;\n",
              "      display: none;\n",
              "      fill: #1967D2;\n",
              "      height: 32px;\n",
              "      padding: 0 0 0 0;\n",
              "      width: 32px;\n",
              "    }\n",
              "\n",
              "    .colab-df-convert:hover {\n",
              "      background-color: #E2EBFA;\n",
              "      box-shadow: 0px 1px 2px rgba(60, 64, 67, 0.3), 0px 1px 3px 1px rgba(60, 64, 67, 0.15);\n",
              "      fill: #174EA6;\n",
              "    }\n",
              "\n",
              "    [theme=dark] .colab-df-convert {\n",
              "      background-color: #3B4455;\n",
              "      fill: #D2E3FC;\n",
              "    }\n",
              "\n",
              "    [theme=dark] .colab-df-convert:hover {\n",
              "      background-color: #434B5C;\n",
              "      box-shadow: 0px 1px 3px 1px rgba(0, 0, 0, 0.15);\n",
              "      filter: drop-shadow(0px 1px 2px rgba(0, 0, 0, 0.3));\n",
              "      fill: #FFFFFF;\n",
              "    }\n",
              "  </style>\n",
              "\n",
              "      <script>\n",
              "        const buttonEl =\n",
              "          document.querySelector('#df-f64adc45-9ac1-4961-aa48-04504162ab38 button.colab-df-convert');\n",
              "        buttonEl.style.display =\n",
              "          google.colab.kernel.accessAllowed ? 'block' : 'none';\n",
              "\n",
              "        async function convertToInteractive(key) {\n",
              "          const element = document.querySelector('#df-f64adc45-9ac1-4961-aa48-04504162ab38');\n",
              "          const dataTable =\n",
              "            await google.colab.kernel.invokeFunction('convertToInteractive',\n",
              "                                                     [key], {});\n",
              "          if (!dataTable) return;\n",
              "\n",
              "          const docLinkHtml = 'Like what you see? Visit the ' +\n",
              "            '<a target=\"_blank\" href=https://colab.research.google.com/notebooks/data_table.ipynb>data table notebook</a>'\n",
              "            + ' to learn more about interactive tables.';\n",
              "          element.innerHTML = '';\n",
              "          dataTable['output_type'] = 'display_data';\n",
              "          await google.colab.output.renderOutput(dataTable, element);\n",
              "          const docLink = document.createElement('div');\n",
              "          docLink.innerHTML = docLinkHtml;\n",
              "          element.appendChild(docLink);\n",
              "        }\n",
              "      </script>\n",
              "    </div>\n",
              "  </div>\n",
              "  "
            ]
          },
          "metadata": {},
          "execution_count": 5
        }
      ]
    },
    {
      "cell_type": "code",
      "source": [
        "gold_data.tail()"
      ],
      "metadata": {
        "colab": {
          "base_uri": "https://localhost:8080/",
          "height": 206
        },
        "id": "raMBndcYPkbp",
        "outputId": "117ea3d5-e9f6-4a1d-f179-875d3f7da629"
      },
      "execution_count": 6,
      "outputs": [
        {
          "output_type": "execute_result",
          "data": {
            "text/plain": [
              "           Date          SPX         GLD      USO      SLV   EUR/USD\n",
              "2285   5/8/2018  2671.919922  124.589996  14.0600  15.5100  1.186789\n",
              "2286   5/9/2018  2697.790039  124.330002  14.3700  15.5300  1.184722\n",
              "2287  5/10/2018  2723.070068  125.180000  14.4100  15.7400  1.191753\n",
              "2288  5/14/2018  2730.129883  124.489998  14.3800  15.5600  1.193118\n",
              "2289  5/16/2018  2725.780029  122.543800  14.4058  15.4542  1.182033"
            ],
            "text/html": [
              "\n",
              "  <div id=\"df-3ef4db04-d62e-4a10-9f4a-459eb755c7ec\">\n",
              "    <div class=\"colab-df-container\">\n",
              "      <div>\n",
              "<style scoped>\n",
              "    .dataframe tbody tr th:only-of-type {\n",
              "        vertical-align: middle;\n",
              "    }\n",
              "\n",
              "    .dataframe tbody tr th {\n",
              "        vertical-align: top;\n",
              "    }\n",
              "\n",
              "    .dataframe thead th {\n",
              "        text-align: right;\n",
              "    }\n",
              "</style>\n",
              "<table border=\"1\" class=\"dataframe\">\n",
              "  <thead>\n",
              "    <tr style=\"text-align: right;\">\n",
              "      <th></th>\n",
              "      <th>Date</th>\n",
              "      <th>SPX</th>\n",
              "      <th>GLD</th>\n",
              "      <th>USO</th>\n",
              "      <th>SLV</th>\n",
              "      <th>EUR/USD</th>\n",
              "    </tr>\n",
              "  </thead>\n",
              "  <tbody>\n",
              "    <tr>\n",
              "      <th>2285</th>\n",
              "      <td>5/8/2018</td>\n",
              "      <td>2671.919922</td>\n",
              "      <td>124.589996</td>\n",
              "      <td>14.0600</td>\n",
              "      <td>15.5100</td>\n",
              "      <td>1.186789</td>\n",
              "    </tr>\n",
              "    <tr>\n",
              "      <th>2286</th>\n",
              "      <td>5/9/2018</td>\n",
              "      <td>2697.790039</td>\n",
              "      <td>124.330002</td>\n",
              "      <td>14.3700</td>\n",
              "      <td>15.5300</td>\n",
              "      <td>1.184722</td>\n",
              "    </tr>\n",
              "    <tr>\n",
              "      <th>2287</th>\n",
              "      <td>5/10/2018</td>\n",
              "      <td>2723.070068</td>\n",
              "      <td>125.180000</td>\n",
              "      <td>14.4100</td>\n",
              "      <td>15.7400</td>\n",
              "      <td>1.191753</td>\n",
              "    </tr>\n",
              "    <tr>\n",
              "      <th>2288</th>\n",
              "      <td>5/14/2018</td>\n",
              "      <td>2730.129883</td>\n",
              "      <td>124.489998</td>\n",
              "      <td>14.3800</td>\n",
              "      <td>15.5600</td>\n",
              "      <td>1.193118</td>\n",
              "    </tr>\n",
              "    <tr>\n",
              "      <th>2289</th>\n",
              "      <td>5/16/2018</td>\n",
              "      <td>2725.780029</td>\n",
              "      <td>122.543800</td>\n",
              "      <td>14.4058</td>\n",
              "      <td>15.4542</td>\n",
              "      <td>1.182033</td>\n",
              "    </tr>\n",
              "  </tbody>\n",
              "</table>\n",
              "</div>\n",
              "      <button class=\"colab-df-convert\" onclick=\"convertToInteractive('df-3ef4db04-d62e-4a10-9f4a-459eb755c7ec')\"\n",
              "              title=\"Convert this dataframe to an interactive table.\"\n",
              "              style=\"display:none;\">\n",
              "        \n",
              "  <svg xmlns=\"http://www.w3.org/2000/svg\" height=\"24px\"viewBox=\"0 0 24 24\"\n",
              "       width=\"24px\">\n",
              "    <path d=\"M0 0h24v24H0V0z\" fill=\"none\"/>\n",
              "    <path d=\"M18.56 5.44l.94 2.06.94-2.06 2.06-.94-2.06-.94-.94-2.06-.94 2.06-2.06.94zm-11 1L8.5 8.5l.94-2.06 2.06-.94-2.06-.94L8.5 2.5l-.94 2.06-2.06.94zm10 10l.94 2.06.94-2.06 2.06-.94-2.06-.94-.94-2.06-.94 2.06-2.06.94z\"/><path d=\"M17.41 7.96l-1.37-1.37c-.4-.4-.92-.59-1.43-.59-.52 0-1.04.2-1.43.59L10.3 9.45l-7.72 7.72c-.78.78-.78 2.05 0 2.83L4 21.41c.39.39.9.59 1.41.59.51 0 1.02-.2 1.41-.59l7.78-7.78 2.81-2.81c.8-.78.8-2.07 0-2.86zM5.41 20L4 18.59l7.72-7.72 1.47 1.35L5.41 20z\"/>\n",
              "  </svg>\n",
              "      </button>\n",
              "      \n",
              "  <style>\n",
              "    .colab-df-container {\n",
              "      display:flex;\n",
              "      flex-wrap:wrap;\n",
              "      gap: 12px;\n",
              "    }\n",
              "\n",
              "    .colab-df-convert {\n",
              "      background-color: #E8F0FE;\n",
              "      border: none;\n",
              "      border-radius: 50%;\n",
              "      cursor: pointer;\n",
              "      display: none;\n",
              "      fill: #1967D2;\n",
              "      height: 32px;\n",
              "      padding: 0 0 0 0;\n",
              "      width: 32px;\n",
              "    }\n",
              "\n",
              "    .colab-df-convert:hover {\n",
              "      background-color: #E2EBFA;\n",
              "      box-shadow: 0px 1px 2px rgba(60, 64, 67, 0.3), 0px 1px 3px 1px rgba(60, 64, 67, 0.15);\n",
              "      fill: #174EA6;\n",
              "    }\n",
              "\n",
              "    [theme=dark] .colab-df-convert {\n",
              "      background-color: #3B4455;\n",
              "      fill: #D2E3FC;\n",
              "    }\n",
              "\n",
              "    [theme=dark] .colab-df-convert:hover {\n",
              "      background-color: #434B5C;\n",
              "      box-shadow: 0px 1px 3px 1px rgba(0, 0, 0, 0.15);\n",
              "      filter: drop-shadow(0px 1px 2px rgba(0, 0, 0, 0.3));\n",
              "      fill: #FFFFFF;\n",
              "    }\n",
              "  </style>\n",
              "\n",
              "      <script>\n",
              "        const buttonEl =\n",
              "          document.querySelector('#df-3ef4db04-d62e-4a10-9f4a-459eb755c7ec button.colab-df-convert');\n",
              "        buttonEl.style.display =\n",
              "          google.colab.kernel.accessAllowed ? 'block' : 'none';\n",
              "\n",
              "        async function convertToInteractive(key) {\n",
              "          const element = document.querySelector('#df-3ef4db04-d62e-4a10-9f4a-459eb755c7ec');\n",
              "          const dataTable =\n",
              "            await google.colab.kernel.invokeFunction('convertToInteractive',\n",
              "                                                     [key], {});\n",
              "          if (!dataTable) return;\n",
              "\n",
              "          const docLinkHtml = 'Like what you see? Visit the ' +\n",
              "            '<a target=\"_blank\" href=https://colab.research.google.com/notebooks/data_table.ipynb>data table notebook</a>'\n",
              "            + ' to learn more about interactive tables.';\n",
              "          element.innerHTML = '';\n",
              "          dataTable['output_type'] = 'display_data';\n",
              "          await google.colab.output.renderOutput(dataTable, element);\n",
              "          const docLink = document.createElement('div');\n",
              "          docLink.innerHTML = docLinkHtml;\n",
              "          element.appendChild(docLink);\n",
              "        }\n",
              "      </script>\n",
              "    </div>\n",
              "  </div>\n",
              "  "
            ]
          },
          "metadata": {},
          "execution_count": 6
        }
      ]
    },
    {
      "cell_type": "code",
      "source": [
        "gold_data.shape"
      ],
      "metadata": {
        "colab": {
          "base_uri": "https://localhost:8080/",
          "height": 0
        },
        "id": "ytcmfB_CPvhh",
        "outputId": "8a71f668-08b3-440c-db5e-7fde4d8e4047"
      },
      "execution_count": 7,
      "outputs": [
        {
          "output_type": "execute_result",
          "data": {
            "text/plain": [
              "(2290, 6)"
            ]
          },
          "metadata": {},
          "execution_count": 7
        }
      ]
    },
    {
      "cell_type": "code",
      "source": [
        "gold_data.info()"
      ],
      "metadata": {
        "colab": {
          "base_uri": "https://localhost:8080/",
          "height": 0
        },
        "id": "fLQn4K87PzFJ",
        "outputId": "b8a2f304-071d-4188-e214-0816fa048946"
      },
      "execution_count": 8,
      "outputs": [
        {
          "output_type": "stream",
          "name": "stdout",
          "text": [
            "<class 'pandas.core.frame.DataFrame'>\n",
            "RangeIndex: 2290 entries, 0 to 2289\n",
            "Data columns (total 6 columns):\n",
            " #   Column   Non-Null Count  Dtype  \n",
            "---  ------   --------------  -----  \n",
            " 0   Date     2290 non-null   object \n",
            " 1   SPX      2290 non-null   float64\n",
            " 2   GLD      2290 non-null   float64\n",
            " 3   USO      2290 non-null   float64\n",
            " 4   SLV      2290 non-null   float64\n",
            " 5   EUR/USD  2290 non-null   float64\n",
            "dtypes: float64(5), object(1)\n",
            "memory usage: 107.5+ KB\n"
          ]
        }
      ]
    },
    {
      "cell_type": "code",
      "source": [
        "gold_data.isnull().sum()"
      ],
      "metadata": {
        "colab": {
          "base_uri": "https://localhost:8080/",
          "height": 0
        },
        "id": "MNqbpWMaP1tR",
        "outputId": "acd9b90a-70f1-4eae-f779-1090b30dd9d1"
      },
      "execution_count": 9,
      "outputs": [
        {
          "output_type": "execute_result",
          "data": {
            "text/plain": [
              "Date       0\n",
              "SPX        0\n",
              "GLD        0\n",
              "USO        0\n",
              "SLV        0\n",
              "EUR/USD    0\n",
              "dtype: int64"
            ]
          },
          "metadata": {},
          "execution_count": 9
        }
      ]
    },
    {
      "cell_type": "code",
      "source": [
        "gold_data.describe()"
      ],
      "metadata": {
        "colab": {
          "base_uri": "https://localhost:8080/",
          "height": 300
        },
        "id": "1cobFlLeP4LT",
        "outputId": "21c1b9bb-eec8-493a-f7a8-cefddca3b25c"
      },
      "execution_count": 10,
      "outputs": [
        {
          "output_type": "execute_result",
          "data": {
            "text/plain": [
              "               SPX          GLD          USO          SLV      EUR/USD\n",
              "count  2290.000000  2290.000000  2290.000000  2290.000000  2290.000000\n",
              "mean   1654.315776   122.732875    31.842221    20.084997     1.283653\n",
              "std     519.111540    23.283346    19.523517     7.092566     0.131547\n",
              "min     676.530029    70.000000     7.960000     8.850000     1.039047\n",
              "25%    1239.874969   109.725000    14.380000    15.570000     1.171313\n",
              "50%    1551.434998   120.580002    33.869999    17.268500     1.303297\n",
              "75%    2073.010070   132.840004    37.827501    22.882500     1.369971\n",
              "max    2872.870117   184.589996   117.480003    47.259998     1.598798"
            ],
            "text/html": [
              "\n",
              "  <div id=\"df-a5cc06e4-a505-438d-9058-7d517e556d10\">\n",
              "    <div class=\"colab-df-container\">\n",
              "      <div>\n",
              "<style scoped>\n",
              "    .dataframe tbody tr th:only-of-type {\n",
              "        vertical-align: middle;\n",
              "    }\n",
              "\n",
              "    .dataframe tbody tr th {\n",
              "        vertical-align: top;\n",
              "    }\n",
              "\n",
              "    .dataframe thead th {\n",
              "        text-align: right;\n",
              "    }\n",
              "</style>\n",
              "<table border=\"1\" class=\"dataframe\">\n",
              "  <thead>\n",
              "    <tr style=\"text-align: right;\">\n",
              "      <th></th>\n",
              "      <th>SPX</th>\n",
              "      <th>GLD</th>\n",
              "      <th>USO</th>\n",
              "      <th>SLV</th>\n",
              "      <th>EUR/USD</th>\n",
              "    </tr>\n",
              "  </thead>\n",
              "  <tbody>\n",
              "    <tr>\n",
              "      <th>count</th>\n",
              "      <td>2290.000000</td>\n",
              "      <td>2290.000000</td>\n",
              "      <td>2290.000000</td>\n",
              "      <td>2290.000000</td>\n",
              "      <td>2290.000000</td>\n",
              "    </tr>\n",
              "    <tr>\n",
              "      <th>mean</th>\n",
              "      <td>1654.315776</td>\n",
              "      <td>122.732875</td>\n",
              "      <td>31.842221</td>\n",
              "      <td>20.084997</td>\n",
              "      <td>1.283653</td>\n",
              "    </tr>\n",
              "    <tr>\n",
              "      <th>std</th>\n",
              "      <td>519.111540</td>\n",
              "      <td>23.283346</td>\n",
              "      <td>19.523517</td>\n",
              "      <td>7.092566</td>\n",
              "      <td>0.131547</td>\n",
              "    </tr>\n",
              "    <tr>\n",
              "      <th>min</th>\n",
              "      <td>676.530029</td>\n",
              "      <td>70.000000</td>\n",
              "      <td>7.960000</td>\n",
              "      <td>8.850000</td>\n",
              "      <td>1.039047</td>\n",
              "    </tr>\n",
              "    <tr>\n",
              "      <th>25%</th>\n",
              "      <td>1239.874969</td>\n",
              "      <td>109.725000</td>\n",
              "      <td>14.380000</td>\n",
              "      <td>15.570000</td>\n",
              "      <td>1.171313</td>\n",
              "    </tr>\n",
              "    <tr>\n",
              "      <th>50%</th>\n",
              "      <td>1551.434998</td>\n",
              "      <td>120.580002</td>\n",
              "      <td>33.869999</td>\n",
              "      <td>17.268500</td>\n",
              "      <td>1.303297</td>\n",
              "    </tr>\n",
              "    <tr>\n",
              "      <th>75%</th>\n",
              "      <td>2073.010070</td>\n",
              "      <td>132.840004</td>\n",
              "      <td>37.827501</td>\n",
              "      <td>22.882500</td>\n",
              "      <td>1.369971</td>\n",
              "    </tr>\n",
              "    <tr>\n",
              "      <th>max</th>\n",
              "      <td>2872.870117</td>\n",
              "      <td>184.589996</td>\n",
              "      <td>117.480003</td>\n",
              "      <td>47.259998</td>\n",
              "      <td>1.598798</td>\n",
              "    </tr>\n",
              "  </tbody>\n",
              "</table>\n",
              "</div>\n",
              "      <button class=\"colab-df-convert\" onclick=\"convertToInteractive('df-a5cc06e4-a505-438d-9058-7d517e556d10')\"\n",
              "              title=\"Convert this dataframe to an interactive table.\"\n",
              "              style=\"display:none;\">\n",
              "        \n",
              "  <svg xmlns=\"http://www.w3.org/2000/svg\" height=\"24px\"viewBox=\"0 0 24 24\"\n",
              "       width=\"24px\">\n",
              "    <path d=\"M0 0h24v24H0V0z\" fill=\"none\"/>\n",
              "    <path d=\"M18.56 5.44l.94 2.06.94-2.06 2.06-.94-2.06-.94-.94-2.06-.94 2.06-2.06.94zm-11 1L8.5 8.5l.94-2.06 2.06-.94-2.06-.94L8.5 2.5l-.94 2.06-2.06.94zm10 10l.94 2.06.94-2.06 2.06-.94-2.06-.94-.94-2.06-.94 2.06-2.06.94z\"/><path d=\"M17.41 7.96l-1.37-1.37c-.4-.4-.92-.59-1.43-.59-.52 0-1.04.2-1.43.59L10.3 9.45l-7.72 7.72c-.78.78-.78 2.05 0 2.83L4 21.41c.39.39.9.59 1.41.59.51 0 1.02-.2 1.41-.59l7.78-7.78 2.81-2.81c.8-.78.8-2.07 0-2.86zM5.41 20L4 18.59l7.72-7.72 1.47 1.35L5.41 20z\"/>\n",
              "  </svg>\n",
              "      </button>\n",
              "      \n",
              "  <style>\n",
              "    .colab-df-container {\n",
              "      display:flex;\n",
              "      flex-wrap:wrap;\n",
              "      gap: 12px;\n",
              "    }\n",
              "\n",
              "    .colab-df-convert {\n",
              "      background-color: #E8F0FE;\n",
              "      border: none;\n",
              "      border-radius: 50%;\n",
              "      cursor: pointer;\n",
              "      display: none;\n",
              "      fill: #1967D2;\n",
              "      height: 32px;\n",
              "      padding: 0 0 0 0;\n",
              "      width: 32px;\n",
              "    }\n",
              "\n",
              "    .colab-df-convert:hover {\n",
              "      background-color: #E2EBFA;\n",
              "      box-shadow: 0px 1px 2px rgba(60, 64, 67, 0.3), 0px 1px 3px 1px rgba(60, 64, 67, 0.15);\n",
              "      fill: #174EA6;\n",
              "    }\n",
              "\n",
              "    [theme=dark] .colab-df-convert {\n",
              "      background-color: #3B4455;\n",
              "      fill: #D2E3FC;\n",
              "    }\n",
              "\n",
              "    [theme=dark] .colab-df-convert:hover {\n",
              "      background-color: #434B5C;\n",
              "      box-shadow: 0px 1px 3px 1px rgba(0, 0, 0, 0.15);\n",
              "      filter: drop-shadow(0px 1px 2px rgba(0, 0, 0, 0.3));\n",
              "      fill: #FFFFFF;\n",
              "    }\n",
              "  </style>\n",
              "\n",
              "      <script>\n",
              "        const buttonEl =\n",
              "          document.querySelector('#df-a5cc06e4-a505-438d-9058-7d517e556d10 button.colab-df-convert');\n",
              "        buttonEl.style.display =\n",
              "          google.colab.kernel.accessAllowed ? 'block' : 'none';\n",
              "\n",
              "        async function convertToInteractive(key) {\n",
              "          const element = document.querySelector('#df-a5cc06e4-a505-438d-9058-7d517e556d10');\n",
              "          const dataTable =\n",
              "            await google.colab.kernel.invokeFunction('convertToInteractive',\n",
              "                                                     [key], {});\n",
              "          if (!dataTable) return;\n",
              "\n",
              "          const docLinkHtml = 'Like what you see? Visit the ' +\n",
              "            '<a target=\"_blank\" href=https://colab.research.google.com/notebooks/data_table.ipynb>data table notebook</a>'\n",
              "            + ' to learn more about interactive tables.';\n",
              "          element.innerHTML = '';\n",
              "          dataTable['output_type'] = 'display_data';\n",
              "          await google.colab.output.renderOutput(dataTable, element);\n",
              "          const docLink = document.createElement('div');\n",
              "          docLink.innerHTML = docLinkHtml;\n",
              "          element.appendChild(docLink);\n",
              "        }\n",
              "      </script>\n",
              "    </div>\n",
              "  </div>\n",
              "  "
            ]
          },
          "metadata": {},
          "execution_count": 10
        }
      ]
    },
    {
      "cell_type": "code",
      "source": [
        "correlation = gold_data.corr()"
      ],
      "metadata": {
        "colab": {
          "base_uri": "https://localhost:8080/",
          "height": 0
        },
        "id": "1GkIkIruP7oD",
        "outputId": "384f228c-2f0b-44d5-e976-54b10f0485fe"
      },
      "execution_count": 11,
      "outputs": [
        {
          "output_type": "stream",
          "name": "stderr",
          "text": [
            "<ipython-input-11-b9d572e5c3ef>:1: FutureWarning: The default value of numeric_only in DataFrame.corr is deprecated. In a future version, it will default to False. Select only valid columns or specify the value of numeric_only to silence this warning.\n",
            "  correlation = gold_data.corr()\n"
          ]
        }
      ]
    },
    {
      "cell_type": "code",
      "source": [
        "plt.figure(figsize = (8,8))\n",
        "sns.heatmap(correlation, cbar=True, square=True, fmt='.1f',annot=True, annot_kws={'size':8}, cmap='Blues')"
      ],
      "metadata": {
        "colab": {
          "base_uri": "https://localhost:8080/",
          "height": 675
        },
        "id": "JKMtOv76P_tK",
        "outputId": "30e0e4a8-c0da-4909-8553-1da31db6d90c"
      },
      "execution_count": 14,
      "outputs": [
        {
          "output_type": "execute_result",
          "data": {
            "text/plain": [
              "<Axes: >"
            ]
          },
          "metadata": {},
          "execution_count": 14
        },
        {
          "output_type": "display_data",
          "data": {
            "text/plain": [
              "<Figure size 800x800 with 2 Axes>"
            ],
            "image/png": "[encoded data removed]"
          },
          "metadata": {}
        }
      ]
    },
    {
      "cell_type": "code",
      "source": [
        "print(correlation['GLD'])"
      ],
      "metadata": {
        "colab": {
          "base_uri": "https://localhost:8080/",
          "height": 0
        },
        "id": "k2BgAtTAQMUX",
        "outputId": "21d77bf1-f575-4209-cce1-981ef54c0737"
      },
      "execution_count": 15,
      "outputs": [
        {
          "output_type": "stream",
          "name": "stdout",
          "text": [
            "SPX        0.049345\n",
            "GLD        1.000000\n",
            "USO       -0.186360\n",
            "SLV        0.866632\n",
            "EUR/USD   -0.024375\n",
            "Name: GLD, dtype: float64\n"
          ]
        }
      ]
    },
    {
      "cell_type": "code",
      "source": [
        "sns.distplot(gold_data['GLD'],color='green')"
      ],
      "metadata": {
        "colab": {
          "base_uri": "https://localhost:8080/",
          "height": 662
        },
        "id": "0XL-dL85QRP4",
        "outputId": "70f74823-6324-4dd0-bf44-212a5d84777e"
      },
      "execution_count": 16,
      "outputs": [
        {
          "output_type": "stream",
          "name": "stderr",
          "text": [
            "<ipython-input-16-4569879e3289>:1: UserWarning: \n",
            "\n",
            "`distplot` is a deprecated function and will be removed in seaborn v0.14.0.\n",
            "\n",
            "Please adapt your code to use either `displot` (a figure-level function with\n",
            "similar flexibility) or `histplot` (an axes-level function for histograms).\n",
            "\n",
            "For a guide to updating your code to use the new functions, please see\n",
            "https://gist.github.com/mwaskom/de44147ed2974457ad6372750bbe5751\n",
            "\n",
            "  sns.distplot(gold_data['GLD'],color='green')\n"
          ]
        },
        {
          "output_type": "execute_result",
          "data": {
            "text/plain": [
              "<Axes: xlabel='GLD', ylabel='Density'>"
            ]
          },
          "metadata": {},
          "execution_count": 16
        },
        {
          "output_type": "display_data",
          "data": {
            "text/plain": [
              "<Figure size 640x480 with 1 Axes>"
            ],
            "image/png": "[encoded data removed]"
          },
          "metadata": {}
        }
      ]
    },
    {
      "cell_type": "code",
      "source": [
        "X = gold_data.drop(['Date','GLD'],axis=1)\n",
        "Y = gold_data['GLD']"
      ],
      "metadata": {
        "id": "xz9OJ8myQUVh"
      },
      "execution_count": 27,
      "outputs": []
    },
    {
      "cell_type": "code",
      "source": [
        "print(X,Y)"
      ],
      "metadata": {
        "colab": {
          "base_uri": "https://localhost:8080/",
          "height": 0
        },
        "id": "As53dAPwQY_Y",
        "outputId": "88ff2b78-e25e-44f3-d51b-5b0b08293bd6"
      },
      "execution_count": 18,
      "outputs": [
        {
          "output_type": "stream",
          "name": "stdout",
          "text": [
            "              SPX        USO      SLV   EUR/USD\n",
            "0     1447.160034  78.470001  15.1800  1.471692\n",
            "1     1447.160034  78.370003  15.2850  1.474491\n",
            "2     1411.630005  77.309998  15.1670  1.475492\n",
            "3     1416.180054  75.500000  15.0530  1.468299\n",
            "4     1390.189941  76.059998  15.5900  1.557099\n",
            "...           ...        ...      ...       ...\n",
            "2285  2671.919922  14.060000  15.5100  1.186789\n",
            "2286  2697.790039  14.370000  15.5300  1.184722\n",
            "2287  2723.070068  14.410000  15.7400  1.191753\n",
            "2288  2730.129883  14.380000  15.5600  1.193118\n",
            "2289  2725.780029  14.405800  15.4542  1.182033\n",
            "\n",
            "[2290 rows x 4 columns] 0        84.860001\n",
            "1        85.570000\n",
            "2        85.129997\n",
            "3        84.769997\n",
            "4        86.779999\n",
            "           ...    \n",
            "2285    124.589996\n",
            "2286    124.330002\n",
            "2287    125.180000\n",
            "2288    124.489998\n",
            "2289    122.543800\n",
            "Name: GLD, Length: 2290, dtype: float64\n"
          ]
        }
      ]
    },
    {
      "cell_type": "code",
      "source": [
        "X_train, X_test, Y_train, Y_test = train_test_split(X, Y, test_size = 0.3, random_state=42)"
      ],
      "metadata": {
        "id": "HGQ3Co9jQfTi"
      },
      "execution_count": 33,
      "outputs": []
    },
    {
      "cell_type": "code",
      "source": [
        "regressor = RandomForestRegressor(n_estimators=100)\n"
      ],
      "metadata": {
        "id": "NANQ_MTLQhnJ"
      },
      "execution_count": 54,
      "outputs": []
    },
    {
      "cell_type": "code",
      "source": [
        "regressor.fit(X_train,Y_train)\n"
      ],
      "metadata": {
        "colab": {
          "base_uri": "https://localhost:8080/",
          "height": 74
        },
        "id": "_fUgSzYwQkR6",
        "outputId": "da69017b-5873-46e2-8f0a-de0b78c0bf0f"
      },
      "execution_count": 55,
      "outputs": [
        {
          "output_type": "execute_result",
          "data": {
            "text/plain": [
              "RandomForestRegressor()"
            ],
            "text/html": [
              "<style>#sk-container-id-7 {color: black;background-color: white;}#sk-container-id-7 pre{padding: 0;}#sk-container-id-7 div.sk-toggleable {background-color: white;}#sk-container-id-7 label.sk-toggleable__label {cursor: pointer;display: block;width: 100%;margin-bottom: 0;padding: 0.3em;box-sizing: border-box;text-align: center;}#sk-container-id-7 label.sk-toggleable__label-arrow:before {content: \"▸\";float: left;margin-right: 0.25em;color: #696969;}#sk-container-id-7 label.sk-toggleable__label-arrow:hover:before {color: black;}#sk-container-id-7 div.sk-estimator:hover label.sk-toggleable__label-arrow:before {color: black;}#sk-container-id-7 div.sk-toggleable__content {max-height: 0;max-width: 0;overflow: hidden;text-align: left;background-color: #f0f8ff;}#sk-container-id-7 div.sk-toggleable__content pre {margin: 0.2em;color: black;border-radius: 0.25em;background-color: #f0f8ff;}#sk-container-id-7 input.sk-toggleable__control:checked~div.sk-toggleable__content {max-height: 200px;max-width: 100%;overflow: auto;}#sk-container-id-7 input.sk-toggleable__control:checked~label.sk-toggleable__label-arrow:before {content: \"▾\";}#sk-container-id-7 div.sk-estimator input.sk-toggleable__control:checked~label.sk-toggleable__label {background-color: #d4ebff;}#sk-container-id-7 div.sk-label input.sk-toggleable__control:checked~label.sk-toggleable__label {background-color: #d4ebff;}#sk-container-id-7 input.sk-hidden--visually {border: 0;clip: rect(1px 1px 1px 1px);clip: rect(1px, 1px, 1px, 1px);height: 1px;margin: -1px;overflow: hidden;padding: 0;position: absolute;width: 1px;}#sk-container-id-7 div.sk-estimator {font-family: monospace;background-color: #f0f8ff;border: 1px dotted black;border-radius: 0.25em;box-sizing: border-box;margin-bottom: 0.5em;}#sk-container-id-7 div.sk-estimator:hover {background-color: #d4ebff;}#sk-container-id-7 div.sk-parallel-item::after {content: \"\";width: 100%;border-bottom: 1px solid gray;flex-grow: 1;}#sk-container-id-7 div.sk-label:hover label.sk-toggleable__label {background-color: #d4ebff;}#sk-container-id-7 div.sk-serial::before {content: \"\";position: absolute;border-left: 1px solid gray;box-sizing: border-box;top: 0;bottom: 0;left: 50%;z-index: 0;}#sk-container-id-7 div.sk-serial {display: flex;flex-direction: column;align-items: center;background-color: white;padding-right: 0.2em;padding-left: 0.2em;position: relative;}#sk-container-id-7 div.sk-item {position: relative;z-index: 1;}#sk-container-id-7 div.sk-parallel {display: flex;align-items: stretch;justify-content: center;background-color: white;position: relative;}#sk-container-id-7 div.sk-item::before, #sk-container-id-7 div.sk-parallel-item::before {content: \"\";position: absolute;border-left: 1px solid gray;box-sizing: border-box;top: 0;bottom: 0;left: 50%;z-index: -1;}#sk-container-id-7 div.sk-parallel-item {display: flex;flex-direction: column;z-index: 1;position: relative;background-color: white;}#sk-container-id-7 div.sk-parallel-item:first-child::after {align-self: flex-end;width: 50%;}#sk-container-id-7 div.sk-parallel-item:last-child::after {align-self: flex-start;width: 50%;}#sk-container-id-7 div.sk-parallel-item:only-child::after {width: 0;}#sk-container-id-7 div.sk-dashed-wrapped {border: 1px dashed gray;margin: 0 0.4em 0.5em 0.4em;box-sizing: border-box;padding-bottom: 0.4em;background-color: white;}#sk-container-id-7 div.sk-label label {font-family: monospace;font-weight: bold;display: inline-block;line-height: 1.2em;}#sk-container-id-7 div.sk-label-container {text-align: center;}#sk-container-id-7 div.sk-container {/* jupyter's `normalize.less` sets `[hidden] { display: none; }` but bootstrap.min.css set `[hidden] { display: none !important; }` so we also need the `!important` here to be able to override the default hidden behavior on the sphinx rendered scikit-learn.org. See: https://github.com/scikit-learn/scikit-learn/issues/21755 */display: inline-block !important;position: relative;}#sk-container-id-7 div.sk-text-repr-fallback {display: none;}</style><div id=\"sk-container-id-7\" class=\"sk-top-container\"><div class=\"sk-text-repr-fallback\"><pre>RandomForestRegressor()</pre><b>In a Jupyter environment, please rerun this cell to show the HTML representation or trust the notebook. <br />On GitHub, the HTML representation is unable to render, please try loading this page with nbviewer.org.</b></div><div class=\"sk-container\" hidden><div class=\"sk-item\"><div class=\"sk-estimator sk-toggleable\"><input class=\"sk-toggleable__control sk-hidden--visually\" id=\"sk-estimator-id-7\" type=\"checkbox\" checked><label for=\"sk-estimator-id-7\" class=\"sk-toggleable__label sk-toggleable__label-arrow\">RandomForestRegressor</label><div class=\"sk-toggleable__content\"><pre>RandomForestRegressor()</pre></div></div></div></div></div>"
            ]
          },
          "metadata": {},
          "execution_count": 55
        }
      ]
    },
    {
      "cell_type": "code",
      "source": [
        "test_data_prediction = regressor.predict(X_test)"
      ],
      "metadata": {
        "id": "0dfV0BQ_Qmvi"
      },
      "execution_count": 56,
      "outputs": []
    },
    {
      "cell_type": "code",
      "source": [
        "print(test_data_prediction)"
      ],
      "metadata": {
        "colab": {
          "base_uri": "https://localhost:8080/",
          "height": 0
        },
        "id": "yOdNJgiJQoiq",
        "outputId": "a871bbd7-cf77-4869-8a89-67b9c9c9e628"
      },
      "execution_count": 57,
      "outputs": [
        {
          "output_type": "stream",
          "name": "stdout",
          "text": [
            "[122.65229968 130.48410235 127.54809981  97.69969929 119.33410011\n",
            " 114.57139918 124.94300128 117.8223998  108.02210121  99.15209948\n",
            "  95.77860008 167.59269824 149.61890178 116.14490085 170.86450107\n",
            "  85.48949901 124.25539912 108.94829726 112.35620076 131.588003\n",
            " 124.19209949 113.50370089 116.06930032 108.69419943 108.03380006\n",
            " 125.81100013 119.31699954 112.51619928 113.2733019  126.15189885\n",
            " 146.02000172  89.10949979 167.97659923 113.58959939 108.30030082\n",
            " 120.01040111 141.39899794 161.0059011  173.39199901 153.08130106\n",
            " 119.94530079 111.39230068 121.35299978 113.79519952 122.02869996\n",
            " 108.05630096  88.11709929 114.17399936 129.92480274 117.89610117\n",
            " 104.66499977 130.13980297 107.38439789 160.36480525 131.53550057\n",
            " 117.68399949 147.01520047 136.13120201  95.42230066 124.70430105\n",
            " 114.31779936  86.56100079 104.29379914 114.12830094  83.9761991\n",
            " 122.40960034 116.63439892 113.53640198 165.95310268  92.27660087\n",
            "  79.95060097 161.0187013  158.32420193 107.07829977 148.29460222\n",
            " 110.06799785 121.93799993 128.66040114 113.25939866 120.01600097\n",
            " 135.98329626 107.62400067  93.85640067  92.64459936 111.63030045\n",
            " 118.61370031 108.64619928 112.13259966 167.23519856 160.74289938\n",
            " 107.56069879 124.95440067 108.31880001 114.97000201 126.73689839\n",
            " 108.20609975 161.53470205  85.16779887 131.460803   113.91960086\n",
            " 156.98289831 110.6009002  113.9183998  108.90739821 137.2289006\n",
            "  88.41499951  92.54859923 174.02989967 118.85300079 118.59149979\n",
            " 121.25350067 171.67219628 131.70300074 119.76760079 157.81030282\n",
            " 118.81639844 119.0437997  110.79859937 119.68629935 121.9278003\n",
            " 128.83309916 114.75940012  89.4363995  114.04400138 132.61930162\n",
            " 115.48270112 124.81960035  90.9829004  106.76520008 117.39940125\n",
            " 109.9386989  165.86290178  80.3462011  121.85313674  72.85480059\n",
            " 111.59869985  99.88550074 124.3309      75.84829986 125.88359938\n",
            " 119.58770094 106.13179975  89.9453999  132.07300014 139.68300116\n",
            " 175.04619945 126.96009966 126.11849898 124.00120081  92.43709881\n",
            " 149.69000048 102.92339918 117.40459979 134.3379989  135.9523995\n",
            " 118.21500116 117.1203015  102.13459812 123.83369934  90.28089926\n",
            " 108.01499944 117.72500039 168.54640077 117.07010063 117.16939947\n",
            " 155.35070106 111.11369983  87.18419901 117.41360169 124.3599995\n",
            " 121.12160204 118.28760031  97.04579934 108.93369997 115.0942994\n",
            " 127.43440179 155.9434012  108.01930097 123.57089933 139.11330186\n",
            "  90.69019976 118.30790098 130.30080066 114.26139952 108.44129959\n",
            " 119.10670025 127.52530053 125.64790121 145.39850099 112.27120057\n",
            "  93.66910001 115.1775001  125.62740049 120.76550142 122.38530101\n",
            "  92.64830061 121.54019875  93.02880029 118.88690027 125.06530079\n",
            " 121.9200004  131.37030107 124.23649904 114.69530118 127.47690062\n",
            " 113.37250075 164.81179719 122.36599776 119.4122019  114.04220056\n",
            " 120.23689967 119.98790037 105.95669982 116.86470055 126.23989976\n",
            " 172.24739679  86.05000051 134.37559905 127.4831999   73.7634006\n",
            " 119.24009963  88.30529991 162.18950193  92.27870041 158.91610178\n",
            " 102.27619851 103.12459945 102.37309882 118.5918992  165.38690042\n",
            " 120.47070084 135.3962991   97.10279899 113.13629933 132.16550177\n",
            " 145.61500051 125.52680041 101.60439934 125.39140124 159.91890216\n",
            " 119.42260052 126.50950046 127.50780102 115.37809948 157.14100173\n",
            " 128.20429966 114.56989956 177.21529892 120.16550182 119.41430078\n",
            " 102.89159852 160.95490008 114.8195011  118.46139931 126.19299991\n",
            " 116.70010111 114.74979962  90.45449955 101.9604003  132.17220038\n",
            " 118.78250206 169.39599838 109.59999896  86.10410086  91.84899946\n",
            " 155.54440041 157.92440045 153.26680132  72.74869901 120.80380099\n",
            " 117.50410036 157.84119904 135.46699911 111.79019986 114.6315\n",
            " 160.42510349 125.77629912 119.51270024 117.47609992 158.09840267\n",
            " 104.10909969  89.36799973  83.8850994   89.73519919 115.42380028\n",
            " 113.59420007 119.60940094 119.52100075  79.67319984  90.58470124\n",
            " 153.50630409 119.4391009  131.89209975 126.85950076 113.4550015\n",
            "  82.05260087 118.14589891  89.29670044 117.74809938 163.62449932\n",
            " 121.64430098 110.13550114 125.52569849 114.67660084 135.25920034\n",
            "  79.91060086 163.67850004 132.11440048 164.23750149 127.73879885\n",
            "  92.13309945 108.61329937 114.26379956 127.70170121 119.08730161\n",
            "  92.2938992  132.14899957 162.42640174  72.30720113 111.78190008\n",
            " 109.71079876 113.54459815 119.9638007  111.90229974 120.20679991\n",
            " 118.410702   126.25770088 125.25500183 109.48509915 167.87219985\n",
            " 169.39839953 112.0960994  169.96609629 112.05250013 161.65640296\n",
            " 127.52179889 167.08599834 135.17640153 109.23409854 167.33979905\n",
            " 116.61000146  72.49820041 113.44349997  93.15999976  88.0210003\n",
            " 104.16899891 125.55250085 125.16269972 167.76259926 121.20250038\n",
            "  87.27269863 131.87839867 121.75140019 107.51289948 164.85930016\n",
            " 126.13279756 126.88610141 113.68300121 134.64090048 125.15370148\n",
            " 144.13259911 122.91039944 118.85030015 121.2107003  166.60539955\n",
            "  71.48760008 162.77689962 165.6413984  118.52290067 103.50749835\n",
            " 128.15899901 154.74480009 172.21219943 134.82629781 127.02260034\n",
            " 123.92660053 153.81079737  88.09599971 131.100702   111.2226006\n",
            " 164.90810036 156.55590128 166.34300121 121.64809989  89.66220048\n",
            " 132.27520168 100.12409994 127.58809825 127.63429909 108.54829971\n",
            "  91.16689921 153.34080096  95.34379913  87.89939967 124.91449949\n",
            "  87.08639797  95.17010049 113.66399954 156.234203   147.45569987\n",
            " 105.80220001 166.40739812 111.35200054 128.05730021  90.66629969\n",
            " 109.49709929  76.03730086 110.60949982 163.86699849 153.61599816\n",
            " 152.67570299 161.56910168  92.5629991  117.73960161  94.04520004\n",
            " 130.29649979 117.87970031 117.44940026 124.30050059 120.76789973\n",
            "  97.84429947 167.90550072 146.98449965 124.75879912 170.30309866\n",
            "  82.41440023 166.23469881 130.54310271 119.7362016   88.41119996\n",
            " 119.92189881  83.42449842 118.65670088 114.59579889 116.47639879\n",
            " 153.27329894 134.57790403 118.03830121 118.82419852 124.27009916\n",
            " 115.10250127 118.5811001  122.32620066 150.21190061 150.07269929\n",
            " 167.88170006  98.49519992 160.12070371  93.52299997 140.80159954\n",
            " 121.50600067  83.73109864 106.59749974 123.41079973 170.05709562\n",
            "  94.07379915  96.30690057 151.95370025 152.6373013  120.35450026\n",
            "  94.19730014  81.28060072 121.61349904 121.5231997  119.5333001\n",
            "  92.03950105 154.59470067 152.46700134 119.16619983 162.0016025\n",
            " 127.64179998 111.09179862 112.37900044 110.21320062 166.09700119\n",
            " 119.87820083 111.65900039 148.92329889  87.78649929  99.05479934\n",
            " 117.33410141  90.66470024 139.5034987  149.49230233 125.11849988\n",
            " 112.2656014  165.52450027 120.27130022 115.15470041 103.23590099\n",
            " 128.98470156 114.89120087 124.89200037 166.64679989 109.53659856\n",
            " 119.6958992  116.06789784 112.16940004 152.00230068 139.37539965\n",
            " 116.63770055  72.23640093 141.37070035 121.03410089  81.23869962\n",
            " 124.85560049 128.29810088 119.9579995  125.97060098 125.3155999\n",
            " 161.44409881 140.01559864  89.2419001   91.39109861 118.02579907\n",
            " 109.76339872  87.48050005 114.65219945  91.9764003  125.27359957\n",
            " 157.76199856 158.90880018 121.23539976  93.04720047 116.59299944\n",
            " 125.86530053 121.16469942 120.46870189 149.03380053 117.61919865\n",
            " 139.72369837 145.80410151 116.01410008  90.18929892 125.07750049\n",
            " 126.60740079 119.47599954 113.55010039 124.2612992  111.17600103\n",
            " 124.53859972 110.18349935 149.73789873 118.39900018 125.24419997\n",
            " 170.28409569  89.79559846  92.47139888 118.8163009  125.85720219\n",
            " 118.49770097 115.92629994 161.63359979 110.9349     125.53879837\n",
            " 153.15980159 161.37440074  84.03679844 153.20819841 102.06989908\n",
            " 155.67120086 155.53270107 119.99099995 139.22389875 157.98049855\n",
            "  84.21529974 117.23470163 153.57940336 120.9203993   94.02379909\n",
            " 106.79460026  92.12310057 126.20670168  84.44019993 108.13189954\n",
            " 121.47039854 124.6681998   73.53099934 165.3594003  167.1658997\n",
            " 110.02680097  90.46400206 162.29249927 114.90020004 120.46469984\n",
            " 168.2033999  125.60930001  89.83379918 146.6264003  109.6928982\n",
            " 121.02739971 122.03910117 126.31420187  87.00319901 102.16479924\n",
            " 125.43709897 124.24969925  90.67360045 173.79069963 153.28190076\n",
            " 157.95159856 147.38169965 165.66939895 108.14909991 109.16909922\n",
            " 128.79219931 119.58610106 120.61309981 105.13550171  86.98259995\n",
            "  90.33819979 176.2396989  171.3145006  119.94419957 108.34660024\n",
            " 140.92170072 161.29509846 127.32639953  94.59790039  86.38029879\n",
            " 121.19970028 124.82070024 127.23879984 134.64940029 113.50239966\n",
            " 172.16239888 125.36950111 171.45609956 126.43919907 109.87029744\n",
            " 122.90869878  88.58599995 126.55319969  82.71980028 127.35290014\n",
            " 119.60030158 116.50939949 124.61029935 138.90760228 123.62050072\n",
            " 151.54150072 153.60060079 159.6567048  123.56370024 104.16719997\n",
            " 109.69489785 124.17890093 127.01770074 122.44679933 120.19059915\n",
            " 111.39240104  97.09069955 113.13879998 138.80499972  90.75140038\n",
            " 134.91490061 124.86739949 119.44560015 112.04640016 165.55760082\n",
            " 128.09970117 111.53770027 131.69260081 105.32580111 105.8483998\n",
            " 118.65490016  89.28440036 149.55490049 124.98779988 166.64949928\n",
            " 124.29980053 124.30329932 117.91410088 150.89460003 107.84140086\n",
            "  93.14580014 117.3576995  125.79220015 133.38720168 151.66609914\n",
            "  94.27439967  89.03239909 152.96000056 121.18610028 162.74049896\n",
            " 166.76529914  92.74259997]\n"
          ]
        }
      ]
    },
    {
      "cell_type": "code",
      "source": [
        "error_score = metrics.r2_score(Y_test, test_data_prediction)\n",
        "print(\"R squared error : \", error_score)"
      ],
      "metadata": {
        "colab": {
          "base_uri": "https://localhost:8080/",
          "height": 0
        },
        "id": "cI6bcuvtQrna",
        "outputId": "a38f2421-2fd1-4340-d59e-d87596b13e6a"
      },
      "execution_count": 58,
      "outputs": [
        {
          "output_type": "stream",
          "name": "stdout",
          "text": [
            "R squared error :  0.990165943993749\n"
          ]
        }
      ]
    },
    {
      "cell_type": "code",
      "source": [
        "Y_test = list(Y_test)"
      ],
      "metadata": {
        "id": "G-JZL0wkQuJ6"
      },
      "execution_count": 59,
      "outputs": []
    },
    {
      "cell_type": "code",
      "source": [
        "print(Y_test)"
      ],
      "metadata": {
        "colab": {
          "base_uri": "https://localhost:8080/",
          "height": 0
        },
        "id": "HuYBF1PeVKH8",
        "outputId": "6555cdf2-9fc7-4550-bd8e-1199154c734f"
      },
      "execution_count": 60,
      "outputs": [
        {
          "output_type": "stream",
          "name": "stdout",
          "text": [
            "[122.32, 129.899994, 126.980003, 96.5, 117.580002, 115.0, 125.440002, 116.93, 108.220001, 98.830002, 96.910004, 168.789993, 151.029999, 115.839996, 169.809998, 85.129997, 122.639999, 107.849998, 110.449997, 131.240005, 124.940002, 115.379997, 116.650002, 109.25, 110.529999, 125.720001, 123.709999, 114.949997, 114.290001, 126.860001, 146.869995, 89.440002, 167.270004, 115.050003, 117.110001, 120.620003, 141.630005, 160.649994, 173.309998, 152.300003, 117.459999, 113.150002, 121.309998, 113.470001, 121.349998, 107.519997, 88.839996, 114.440002, 130.559998, 117.739998, 99.669998, 129.770004, 106.169998, 161.070007, 127.93, 115.940002, 143.470001, 130.110001, 95.730003, 124.360001, 116.620003, 85.599998, 104.099998, 112.610001, 86.519997, 122.400002, 116.470001, 112.660004, 166.399994, 91.989998, 80.809998, 160.559998, 157.639999, 103.419998, 135.020004, 110.400002, 124.43, 127.739998, 112.440002, 119.910004, 137.809998, 105.720001, 93.559998, 92.730003, 111.510002, 119.580002, 109.980003, 111.970001, 166.380005, 161.539993, 106.480003, 124.779999, 106.129997, 115.849998, 125.720001, 107.75, 162.009995, 78.389999, 129.520004, 115.639999, 145.729996, 109.790001, 112.290001, 107.339996, 136.179993, 86.449997, 92.059998, 178.539993, 118.93, 120.559998, 121.559998, 172.410004, 130.100006, 119.330002, 159.619995, 118.989998, 118.32, 110.239998, 119.190002, 122.07, 129.649994, 114.099998, 88.139999, 114.769997, 131.660004, 114.470001, 124.150002, 89.540001, 106.220001, 117.220001, 108.599998, 165.880005, 80.389999, 122.230003, 72.510002, 109.139999, 104.040001, 122.879997, 76.949997, 128.119995, 121.269997, 110.949997, 92.629997, 129.869995, 135.320007, 172.360001, 128.470001, 127.480003, 124.910004, 92.559998, 151.589996, 103.559998, 117.919998, 133.110001, 135.520004, 119.650002, 117.300003, 102.550003, 124.400002, 90.040001, 108.279999, 118.470001, 161.490005, 116.25, 116.120003, 157.460007, 111.43, 87.379997, 116.980003, 124.690002, 121.199997, 120.730003, 99.169998, 107.949997, 114.43, 126.449997, 156.479996, 107.839996, 124.230003, 139.410004, 91.110001, 117.870003, 127.400002, 114.870003, 109.43, 119.169998, 127.269997, 124.279999, 148.589996, 111.860001, 94.599998, 113.639999, 124.82, 120.870003, 122.669998, 93.129997, 119.940002, 93.269997, 121.489998, 123.919998, 122.129997, 132.130005, 123.760002, 115.059998, 127.970001, 112.220001, 164.860001, 122.900002, 120.099998, 112.75, 119.550003, 122.290001, 107.040001, 116.550003, 125.779999, 172.100006, 85.199997, 134.179993, 127.059998, 73.580002, 118.970001, 89.220001, 162.070007, 92.660004, 160.5, 102.279999, 102.040001, 103.110001, 118.080002, 166.070007, 120.360001, 136.5, 97.010002, 114.309998, 132.490005, 146.5, 126.300003, 101.760002, 124.720001, 157.210007, 122.379997, 127.279999, 128.070007, 116.330002, 157.320007, 130.270004, 113.970001, 179.100006, 119.699997, 121.050003, 102.940002, 160.520004, 115.050003, 118.519997, 126.089996, 116.5, 115.470001, 91.150002, 98.360001, 131.699997, 118.940002, 172.070007, 107.470001, 85.809998, 92.389999, 156.460007, 136.240005, 152.990005, 71.099998, 121.68, 118.190002, 159.050003, 135.229996, 111.419998, 111.830002, 159.429993, 124.529999, 120.839996, 114.82, 161.220001, 104.400002, 89.18, 78.860001, 89.849998, 115.68, 114.32, 120.760002, 119.610001, 76.199997, 88.25, 153.029999, 119.779999, 132.009995, 128.460007, 113.75, 80.93, 117.209999, 89.589996, 117.959999, 163.229996, 122.489998, 110.760002, 125.580002, 114.629997, 138.369995, 80.870003, 163.210007, 135.589996, 162.300003, 127.580002, 92.25, 111.019997, 115.269997, 129.289993, 119.699997, 92.269997, 133.690002, 161.419998, 72.650002, 117.769997, 107.370003, 115.110001, 121.800003, 111.540001, 122.419998, 118.230003, 126.419998, 126.339996, 111.589996, 166.419998, 168.610001, 110.889999, 168.710007, 112.849998, 161.839996, 128.380005, 167.119995, 137.660004, 109.800003, 167.869995, 115.889999, 72.050003, 113.779999, 95.120003, 88.800003, 104.389999, 125.32, 124.32, 170.850006, 120.860001, 86.309998, 131.029999, 122.699997, 107.309998, 172.229996, 125.620003, 127.779999, 114.720001, 137.779999, 125.459999, 142.380005, 121.290001, 117.519997, 121.650002, 168.350006, 72.18, 161.589996, 164.289993, 117.540001, 104.209999, 130.289993, 151.330002, 171.470001, 134.699997, 128.830002, 127.860001, 148.970001, 88.470001, 130.369995, 110.470001, 163.5, 157.929993, 168.179993, 122.709999, 90.709999, 134.070007, 99.82, 127.699997, 124.269997, 108.470001, 90.959999, 152.380005, 95.449997, 87.019997, 125.540001, 86.889999, 93.190002, 113.260002, 157.429993, 145.649994, 104.720001, 167.919998, 111.980003, 128.559998, 91.730003, 108.860001, 80.379997, 110.809998, 164.309998, 156.5, 149.740005, 162.559998, 92.290001, 118.769997, 92.790001, 130.619995, 117.339996, 116.790001, 123.32, 120.650002, 98.339996, 173.360001, 145.369995, 125.809998, 169.059998, 82.709999, 167.289993, 129.339996, 119.82, 87.68, 118.300003, 82.75, 118.459999, 118.489998, 115.620003, 155.229996, 133.139999, 118.150002, 119.800003, 122.419998, 113.830002, 118.18, 122.209999, 139.110001, 173.529999, 170.770004, 97.080002, 159.309998, 92.339996, 135.419998, 121.940002, 84.480003, 107.110001, 126.68, 167.179993, 93.849998, 96.230003, 154.339996, 160.539993, 120.900002, 94.440002, 84.519997, 122.599998, 121.209999, 119.040001, 93.169998, 156.220001, 152.619995, 120.07, 162.649994, 127.959999, 109.860001, 114.769997, 111.089996, 165.770004, 119.290001, 111.690002, 147.770004, 88.169998, 97.699997, 116.989998, 90.360001, 132.800003, 150.410004, 125.959999, 115.059998, 166.830002, 121.010002, 116.110001, 101.849998, 127.669998, 114.459999, 126.470001, 168.110001, 104.230003, 119.040001, 115.940002, 113.5, 153.0, 140.029999, 117.660004, 73.300003, 138.369995, 120.779999, 82.629997, 125.029999, 128.029999, 120.260002, 125.980003, 123.389999, 160.130005, 134.100006, 89.540001, 90.919998, 120.559998, 106.550003, 87.089996, 115.43, 93.059998, 124.269997, 157.770004, 160.539993, 120.110001, 93.529999, 117.290001, 125.540001, 120.050003, 120.010002, 156.979996, 120.739998, 138.669998, 137.220001, 118.360001, 90.900002, 125.980003, 126.139999, 120.949997, 111.43, 124.239998, 114.209999, 124.959999, 110.260002, 150.559998, 118.809998, 122.449997, 169.610001, 90.25, 91.169998, 118.190002, 125.620003, 118.080002, 116.07, 160.210007, 109.879997, 122.830002, 154.570007, 159.570007, 85.599998, 146.240005, 102.260002, 157.119995, 156.490005, 120.989998, 137.660004, 160.330002, 84.459999, 115.540001, 153.050003, 119.360001, 93.830002, 108.050003, 91.879997, 126.199997, 85.900002, 109.160004, 119.510002, 125.489998, 70.650002, 164.369995, 167.339996, 110.739998, 91.099998, 161.279999, 113.910004, 122.220001, 170.130005, 126.32, 91.400002, 152.770004, 102.860001, 120.389999, 121.919998, 126.230003, 85.389999, 100.5, 125.989998, 122.669998, 91.029999, 174.399994, 157.779999, 159.729996, 144.740005, 165.160004, 108.550003, 108.550003, 129.220001, 119.900002, 120.790001, 105.410004, 86.269997, 91.580002, 177.210007, 167.119995, 121.480003, 104.18, 141.919998, 161.979996, 128.789993, 94.410004, 86.230003, 123.449997, 123.389999, 128.110001, 134.610001, 112.370003, 171.740005, 124.970001, 160.639999, 125.699997, 109.589996, 120.620003, 87.370003, 126.139999, 84.150002, 128.279999, 120.220001, 117.379997, 122.849998, 134.660004, 124.019997, 151.050003, 157.320007, 159.369995, 125.839996, 104.739998, 107.480003, 125.610001, 126.989998, 123.68, 124.360001, 113.910004, 96.089996, 110.82, 139.919998, 91.089996, 133.910004, 124.870003, 118.959999, 111.309998, 166.020004, 128.710007, 110.82, 132.199997, 107.099998, 105.370003, 119.599998, 89.709999, 151.050003, 123.989998, 167.990005, 124.589996, 122.279999, 117.449997, 153.339996, 105.970001, 92.790001, 116.860001, 126.300003, 131.679993, 152.970001, 92.760002, 89.139999, 152.149994, 121.309998, 162.600006, 167.100006, 94.349998]\n"
          ]
        }
      ]
    },
    {
      "cell_type": "code",
      "source": [
        "plt.plot(Y_test, color='blue', label = 'Actual Value')\n",
        "plt.plot(test_data_prediction, color='green', label='Predicted Value')\n",
        "plt.title('Actual Price vs Predicted Price')\n",
        "plt.xlabel('Number of values')\n",
        "plt.ylabel('GLD Price')\n",
        "plt.legend()\n",
        "plt.show()"
      ],
      "metadata": {
        "colab": {
          "base_uri": "https://localhost:8080/",
          "height": 472
        },
        "id": "gnoZxgwTQwCR",
        "outputId": "128affde-2f2c-428b-8062-9a926e4e3b8c"
      },
      "execution_count": 61,
      "outputs": [
        {
          "output_type": "display_data",
          "data": {
            "text/plain": [
              "<Figure size 640x480 with 1 Axes>"
            ],
            "image/png": "[encoded data removed]"
          },
          "metadata": {}
        }
      ]
    },
    {
      "cell_type": "code",
      "source": [
        "mse = mean_squared_error(Y_test, test_data_prediction)\n",
        "\n",
        "print(\"Mean Squared Error:\", mse)"
      ],
      "metadata": {
        "colab": {
          "base_uri": "https://localhost:8080/",
          "height": 0
        },
        "id": "NT1sqnt6QwHV",
        "outputId": "9b7c2e43-03af-4e6f-be43-d2f719b03385"
      },
      "execution_count": 62,
      "outputs": [
        {
          "output_type": "stream",
          "name": "stdout",
          "text": [
            "Mean Squared Error: 5.4186868056058435\n"
          ]
        }
      ]
    }
  ]
}