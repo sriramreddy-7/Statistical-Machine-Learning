{
  "nbformat": 4,
  "nbformat_minor": 0,
  "metadata": {
    "colab": {
      "provenance": [],
      "authorship_tag": "ABX9TyOLux2avHBSAg5WXKeV7y0d",
      "include_colab_link": true
    },
    "kernelspec": {
      "name": "python3",
      "display_name": "Python 3"
    },
    "language_info": {
      "name": "python"
    }
  },
  "cells": [
    {
      "cell_type": "markdown",
      "metadata": {
        "id": "view-in-github",
        "colab_type": "text"
      },
      "source": [
        "<a href=\"https://colab.research.google.com/github/sriramreddy-7/Statistical-Machine-Learning/blob/main/SML_J_COMP-PROJECT-1.ipynb\" target=\"_parent\"><img src=\"https://colab.research.google.com/assets/colab-badge.svg\" alt=\"Open In Colab\"/></a>"
      ]
    },
    {
      "cell_type": "code",
      "execution_count": null,
      "metadata": {
        "id": "Ln-9kpfGS4w7"
      },
      "outputs": [],
      "source": [
        "import pandas as pd\n",
        "import numpy as np\n",
        "import matplotlib.pyplot as plt\n",
        "import seaborn as sns\n",
        "from sklearn import metrics\n",
        "from sklearn.model_selection import train_test_split\n",
        "from sklearn.linear_model import LinearRegression\n",
        "from sklearn.linear_model import Lasso\n",
        "from sklearn.preprocessing import StandardScaler"
      ]
    },
    {
      "cell_type": "code",
      "source": [
        "data=pd.read_csv(\"LIFE_EXPECT.csv.csv\")\n",
        "\n",
        "data.head()\n",
        "\n",
        "data.isnull().sum()"
      ],
      "metadata": {
        "colab": {
          "base_uri": "https://localhost:8080/"
        },
        "id": "JHKJzIe6TA7T",
        "outputId": "50fc7905-01e5-45db-b789-642b82506c01"
      },
      "execution_count": null,
      "outputs": [
        {
          "output_type": "execute_result",
          "data": {
            "text/plain": [
              "age         0\n",
              "sex         0\n",
              "cp          0\n",
              "trestbps    0\n",
              "chol        0\n",
              "fbs         0\n",
              "restecg     0\n",
              "thalach     0\n",
              "exang       0\n",
              "oldpeak     0\n",
              "slope       0\n",
              "ca          0\n",
              "thal        0\n",
              "target      0\n",
              "dtype: int64"
            ]
          },
          "metadata": {},
          "execution_count": 2
        }
      ]
    },
    {
      "cell_type": "code",
      "source": [
        "x=data.drop(['age'] ,axis=1)\n",
        "y=data['age']\n",
        "\n",
        "print(x)\n",
        "\n",
        "print(y)\n",
        "\n",
        "x_train,x_test,y_train,y_test=train_test_split(x,y,test_size=0.1,random_state=True)\n",
        "\n",
        "lin_reg_model=LinearRegression()\n",
        "\n",
        "reg=lin_reg_model.fit(x_train,y_train)\n",
        "\n",
        "w=reg.score(x_test,y_test)\n",
        "\n",
        "reg.score(x_train,y_train)\n",
        "\n",
        "train_prediction=lin_reg_model.predict(x_train)\n",
        "\n",
        "error_score=metrics.r2_score(y_train,train_prediction)\n",
        "print(error_score)\n",
        "\n",
        "\n",
        "\n",
        "from sklearn import linear_model\n",
        "lasso_reg=linear_model.Lasso(alpha=50,max_iter=100,tol=0.1)\n",
        "lasso_reg.fit(x_train,y_train)\n",
        "\n",
        "j=lasso_reg.score(x_test,y_test)\n",
        "trainl_prediction=lasso_reg.predict(x_train)\n",
        "error2_score=metrics.r2_score(y_train,trainl_prediction)\n",
        "print(error2_score)\n",
        "\n",
        "jj=lasso_reg.score(x_train,y_train)\n",
        "\n",
        "from sklearn.linear_model import Ridge\n",
        "Ridge_reg=linear_model.Ridge(alpha=50,max_iter=100,tol=0.1)\n",
        "Ridge_reg.fit(x_train,y_train)\n",
        "trainr_prediction=Ridge_reg.predict(x_train)\n",
        "error_scorer=metrics.r2_score(y_train,trainr_prediction)\n",
        "print(error_scorer)\n",
        "ff=Ridge_reg.score(x_train,y_train)\n",
        "\n",
        "ll=Ridge_reg.score(x_test,y_test)\n",
        "\n",
        "# import matplotlib.pyplot as plt\n",
        "# plt.scatter(x_test,y_test)\n",
        "# plt.xlabel(\"target\")\n",
        "# plt.ylabel(\"age\")\n",
        "# plt.title(\"Actual Trades vs Predicted Trades\")\n",
        "# plt.show"
      ],
      "metadata": {
        "colab": {
          "base_uri": "https://localhost:8080/"
        },
        "id": "7TtXyfIjTIFV",
        "outputId": "e58dacbd-e793-4da3-9aeb-2a7c7282dd3a"
      },
      "execution_count": null,
      "outputs": [
        {
          "output_type": "stream",
          "name": "stdout",
          "text": [
            "     sex  cp  trestbps  chol  fbs  restecg  thalach  exang  oldpeak  slope  \\\n",
            "0      1   3       145   233    1        0      150      0      2.3      0   \n",
            "1      1   2       130   250    0        1      187      0      3.5      0   \n",
            "2      0   1       130   204    0        0      172      0      1.4      2   \n",
            "3      1   1       120   236    0        1      178      0      0.8      2   \n",
            "4      0   0       120   354    0        1      163      1      0.6      2   \n",
            "..   ...  ..       ...   ...  ...      ...      ...    ...      ...    ...   \n",
            "298    0   0       140   241    0        1      123      1      0.2      1   \n",
            "299    1   3       110   264    0        1      132      0      1.2      1   \n",
            "300    1   0       144   193    1        1      141      0      3.4      1   \n",
            "301    1   0       130   131    0        1      115      1      1.2      1   \n",
            "302    0   1       130   236    0        0      174      0      0.0      1   \n",
            "\n",
            "     ca  thal  target  \n",
            "0     0     1       1  \n",
            "1     0     2       1  \n",
            "2     0     2       1  \n",
            "3     0     2       1  \n",
            "4     0     2       1  \n",
            "..   ..   ...     ...  \n",
            "298   0     3       0  \n",
            "299   0     3       0  \n",
            "300   2     3       0  \n",
            "301   1     3       0  \n",
            "302   1     2       0  \n",
            "\n",
            "[303 rows x 13 columns]\n",
            "0      63\n",
            "1      37\n",
            "2      41\n",
            "3      56\n",
            "4      57\n",
            "       ..\n",
            "298    57\n",
            "299    45\n",
            "300    68\n",
            "301    57\n",
            "302    57\n",
            "Name: age, Length: 303, dtype: int64\n",
            "0.30503242634446204\n",
            "0.12595077322184733\n",
            "0.29947544587388797\n"
          ]
        }
      ]
    },
    {
      "cell_type": "code",
      "source": [
        "# import matplotlib.pyplot as plt\n",
        "# plt.scatter(Y_test,Y_pred)\n",
        "# plt.xlabel(\"target\")\n",
        "# plt.ylabel(\"age\")\n",
        "# plt.title(\"Actual Trades vs Predicted Trades\")\n",
        "# plt.show"
      ],
      "metadata": {
        "id": "mjP6zuM-TLDp"
      },
      "execution_count": null,
      "outputs": []
    }
  ]
}